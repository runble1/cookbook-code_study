{
 "cells": [
  {
   "cell_type": "markdown",
   "metadata": {},
   "source": [
    "# 統計的仮説検定\n",
    "不完全なデータを基にした判断を可能とする、リスクを判断する厳格な方法。\n",
    "\n",
    "## Z検定\n",
    "頻度主義による仮説検定のひとつ\n",
    "\n",
    "## 頻度主義に寄る仮説検定の流れ\n",
    "1. 証明しようとする仮説の反対である帰無仮説を設定\n",
    "2. 検定の種類、モデル、仮説、データに適した式を使い検定統計量を計算\n",
    "3. 計算値を基に帰無仮説が棄却されるか、棄却できないかを判断"
   ]
  },
  {
   "cell_type": "code",
   "execution_count": 1,
   "metadata": {
    "collapsed": true
   },
   "outputs": [],
   "source": [
    "import numpy as np\n",
    "import scipy.stats as st\n",
    "import scipy.special as sp"
   ]
  },
  {
   "cell_type": "code",
   "execution_count": 3,
   "metadata": {},
   "outputs": [],
   "source": [
    "n = 100 # コイントス回数\n",
    "h = 61   # 表が出た回数\n",
    "q = .5    # 帰無仮説(コインに歪みがない=1/2)"
   ]
  },
  {
   "cell_type": "code",
   "execution_count": 6,
   "metadata": {},
   "outputs": [
    {
     "data": {
      "text/plain": [
       "2.1999999999999997"
      ]
     },
     "execution_count": 6,
     "metadata": {},
     "output_type": "execute_result"
    }
   ],
   "source": [
    "# Zスコアの計算\n",
    "xbar = float(h)/n\n",
    "z = (xbar -q) * np.sqrt(n / (q*(1-q))); z"
   ]
  },
  {
   "cell_type": "code",
   "execution_count": 8,
   "metadata": {},
   "outputs": [
    {
     "data": {
      "text/plain": [
       "0.02780689502699718"
      ]
     },
     "execution_count": 8,
     "metadata": {},
     "output_type": "execute_result"
    }
   ],
   "source": [
    "# p値を計算\n",
    "pval = 2 * (1-st.norm.cdf(z)); pval"
   ]
  },
  {
   "cell_type": "markdown",
   "metadata": {},
   "source": [
    "p値が 0.05 よりも小さいため、帰無仮説は棄却され、コインに歪みがあるという結論"
   ]
  }
 ],
 "metadata": {
  "kernelspec": {
   "display_name": "Python 3",
   "language": "python",
   "name": "python3"
  },
  "language_info": {
   "codemirror_mode": {
    "name": "ipython",
    "version": 3
   },
   "file_extension": ".py",
   "mimetype": "text/x-python",
   "name": "python",
   "nbconvert_exporter": "python",
   "pygments_lexer": "ipython3",
   "version": "3.6.1"
  }
 },
 "nbformat": 4,
 "nbformat_minor": 2
}
